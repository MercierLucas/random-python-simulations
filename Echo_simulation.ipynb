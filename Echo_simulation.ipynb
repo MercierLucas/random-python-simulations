{
 "cells": [
  {
   "cell_type": "code",
   "execution_count": 1,
   "metadata": {},
   "outputs": [],
   "source": [
    "import numpy as np\n",
    "from random import shuffle\n",
    "import matplotlib.pyplot as plt"
   ]
  },
  {
   "cell_type": "code",
   "execution_count": 136,
   "metadata": {},
   "outputs": [],
   "source": [
    "class Step:\n",
    "    def __init__(self,name,parameters):\n",
    "        self.name = name\n",
    "        self.parameters = parameters\n",
    "        \n",
    "class Node:\n",
    "    def __init__(self,id,N):\n",
    "        self.id = id\n",
    "        self.V = [0]*N\n",
    "        self.L = self.id\n",
    "        self.exchanged_messages = 0\n",
    "        self.rounds = 0\n",
    "        self.nextSteps = []\n",
    "        self.nextSteps.append(Step(\"broadcast\",-1)) # FIFO \n",
    "        \n",
    "    def stillHasIterations(self):\n",
    "        return len(self.nextSteps) > 0\n",
    "    \n",
    "    def iterate(self,nodes):\n",
    "        last_steps = self.nextSteps.copy()\n",
    "        self.nextSteps = []\n",
    "        for step in last_steps:\n",
    "            #print(\"step is {}\".format(step.name))\n",
    "            if step.name == \"broadcast\":\n",
    "           #     print(\"Brodcasting\")\n",
    "                self.broadcast(nodes,j=step.parameters)\n",
    "            elif step.name == \"sendBackTo\":\n",
    "          #      print(\"SENDBKACTO\")\n",
    "                self.sendBackTo(step.parameters,nodes)\n",
    "            \n",
    "    def broadcast(self,nodes,j=-1):\n",
    "        for node in nodes:\n",
    "            if node.id != self.id:\n",
    "                self.exchanged_messages += 1\n",
    "         #       print(\"Node {} send {} to {}\".format(self.id,self.L,node.id))\n",
    "                if j != -1 and node.id != j:\n",
    "                    #print(\"Node {} send {} to {}\".format(self.id,self.L,node.id))\n",
    "                    node.receiveLj(self.id,self.L,nodes)\n",
    "                else:\n",
    "                    node.receiveLj(self.id,self.L,nodes)\n",
    "                \n",
    "    def sendBackTo(self,j,nodes):\n",
    "        self.exchanged_messages += 1\n",
    "        #print(\"Node {} send back to {}\".format(self.id,self.L,j))\n",
    "        nodes[j].receiveLj(self.id,self.L,nodes,response=False) # avoid infinite responses\n",
    "\n",
    "    def receiveLj(self,j,Lj,nodes,response=True):\n",
    "        #self.exchanged_messages += 1\n",
    "        self.rounds +=1\n",
    "        #print(\"Node {}: received {} from node:{}\".format(self.id,Lj,j))\n",
    "        if Lj < self.L:\n",
    "            self.L = Lj\n",
    "            self.V[j] = Lj\n",
    "            self.nextSteps.append(Step(\"broadcast\",j))\n",
    "            #print(\"    So now value of node{} is {} -> broadcast\".format(self.id,Lj))\n",
    "\n",
    "        elif self.L == Lj:\n",
    "            #print(\"SAME VALUE\")\n",
    "            self.V[j] = Lj\n",
    "            if response:\n",
    "                self.nextSteps.append(Step(\"sendBackTo\",j))\n",
    "                #print(\"    Same value found -> response\".format(Lj))"
   ]
  },
  {
   "cell_type": "code",
   "execution_count": 137,
   "metadata": {},
   "outputs": [],
   "source": [
    "def continueIterations(nodes):\n",
    "    for node in nodes:\n",
    "        if node.stillHasIterations():\n",
    "            return True\n",
    "    return False"
   ]
  },
  {
   "cell_type": "code",
   "execution_count": 143,
   "metadata": {},
   "outputs": [],
   "source": [
    "def simulate(N,mode=\"normal\"):\n",
    "    nodes = [Node(i,N) for i in range(0,N)]\n",
    "    if mode == \"random\":\n",
    "        shuffle(nodes)\n",
    "    elif mode == \"reverse\":\n",
    "        nodes.reverse()\n",
    "    elif mode == \"normal\":\n",
    "        pass\n",
    "    else:\n",
    "        print(\"Mode {} not supported\".format(mode))\n",
    "        \n",
    "    rounds = 1\n",
    "    while continueIterations(nodes): #\n",
    "        #print(\"Round \"+str(rounds))\n",
    "        for node in nodes:\n",
    "            #print(\"Iterating node \"+str(node.id))\n",
    "            node.iterate(nodes)\n",
    "        rounds+=1\n",
    "        \n",
    "    messages = 0\n",
    "    #sum\n",
    "    for node in nodes:\n",
    "        messages += node.exchanged_messages\n",
    "    return messages,rounds"
   ]
  },
  {
   "cell_type": "code",
   "execution_count": 156,
   "metadata": {},
   "outputs": [
    {
     "data": {
      "image/png": "[encoded data removed]",
      "text/plain": [
       "<Figure size 432x288 with 1 Axes>"
      ]
     },
     "metadata": {
      "needs_background": "light"
     },
     "output_type": "display_data"
    }
   ],
   "source": [
    "#comparing random, ascending and descending order\n",
    "N = 30\n",
    "\n",
    "values_random = []\n",
    "values_normal = []\n",
    "values_reverse = []\n",
    "\n",
    "for n in range(1,N):\n",
    "    messages,rounds = simulate(n,\"normal\")\n",
    "    values_normal.append(messages)\n",
    "    messages,rounds = simulate(n,\"reverse\")\n",
    "    values_reverse.append(messages)\n",
    "\n",
    "for n in range(1,N):\n",
    "    messages = []\n",
    "    rounds = []\n",
    "    for i in range(100):\n",
    "        m,r = simulate(n,\"random\")\n",
    "        messages.append(m)\n",
    "        rounds.append(r)\n",
    "    messages = np.array(messages)\n",
    "    mean = np.mean(messages)\n",
    "    values_random.append(mean)\n",
    "    \n",
    "Ns = [i for i in range(1,N)]\n",
    "plt.plot(Ns,values_normal,\"orange\")\n",
    "plt.plot(Ns,values_reverse,\"blue\")\n",
    "plt.plot(Ns,values_random,\"green\")\n",
    "plt.title(\"Number of message per number of Nodes N\")\n",
    "plt.xlabel(\"Number of nodes\")\n",
    "plt.ylabel(\"Number of messages\")\n",
    "plt.show()"
   ]
  },
  {
   "cell_type": "code",
   "execution_count": 152,
   "metadata": {},
   "outputs": [
    {
     "name": "stdout",
     "output_type": "stream",
     "text": [
      "N     | Rounds | Min   | Mean  | Max   \n",
      "----------------------------------------\n",
      "    1 |     2  |     0 |     0 |     0 \n",
      "----------------------------------------\n",
      "    2 |     3  |     4 |     4 |     5 \n",
      "----------------------------------------\n",
      "    3 |     4  |    16 |    18 |    20 \n",
      "----------------------------------------\n",
      "    4 |     4  |    36 |    43 |    51 \n",
      "----------------------------------------\n",
      "    5 |     4  |    64 |    80 |   104 \n",
      "----------------------------------------\n",
      "    6 |     4  |   100 |   130 |   177 \n",
      "----------------------------------------\n",
      "    7 |     4  |   144 |   201 |   277 \n",
      "----------------------------------------\n",
      "    8 |     4  |   196 |   279 |   402 \n",
      "----------------------------------------\n",
      "    9 |     4  |   256 |   379 |   611 \n",
      "----------------------------------------\n",
      "   10 |     4  |   333 |   485 |   788 \n",
      "----------------------------------------\n"
     ]
    }
   ],
   "source": [
    "print(\"{:5} | {:5} | {:5} | {:5} | {:5} \".format(\"N\",\"Rounds\",\"Min\",\"Mean\",\"Max\"))\n",
    "print(\"-\"*40)\n",
    "means = []\n",
    "N = 11\n",
    "for n in range(1,N):\n",
    "    messages = []\n",
    "    rounds = []\n",
    "    for i in range(100):\n",
    "        m,r = simulate(n,\"random\")\n",
    "        messages.append(m)\n",
    "        rounds.append(r)\n",
    "    messages = np.array(messages)\n",
    "    mean = np.mean(messages)\n",
    "    means.append(mean)\n",
    "    min = messages.min()\n",
    "    max = messages.max()\n",
    "    rounds = np.array(rounds)\n",
    "    #rounds = \"X\"\n",
    "    print(\"{:5} | {:5}  | {:5} | {:5.0f} | {:5} \".format(n,rounds.max(),min,mean,max))\n",
    "    print(\"-\"*40)"
   ]
  },
  {
   "cell_type": "code",
   "execution_count": 182,
   "metadata": {},
   "outputs": [
    {
     "name": "stdout",
     "output_type": "stream",
     "text": [
      "1N**2 -1N + 0\n"
     ]
    },
    {
     "data": {
      "image/png": "[encoded data removed]",
      "text/plain": [
       "<Figure size 432x288 with 1 Axes>"
      ]
     },
     "metadata": {
      "needs_background": "light"
     },
     "output_type": "display_data"
    }
   ],
   "source": [
    "coeffs = np.polyfit(Ns,values_reverse,3)\n",
    "print(\"{:.0f}N**3 +{:.0f}N**2 + {:.0f} \".format(coeffs[0],coeffs[1],coeffs[2]))\n",
    "fit = [ apply3(n,coeffs) for n in Ns] \n",
    "plt.plot(Ns,values_reverse,\"blue\")\n",
    "plt.plot(Ns,fit,\"orange\")\n",
    "plt.show()"
   ]
  },
  {
   "cell_type": "code",
   "execution_count": 109,
   "metadata": {},
   "outputs": [],
   "source": [
    "Ns = [i for i in range(1,N)]\n",
    "coeffs = np.polyfit(Ns,means,2)\n",
    "\n"
   ]
  },
  {
   "cell_type": "code",
   "execution_count": 179,
   "metadata": {},
   "outputs": [],
   "source": [
    "def apply(x,coeffs):\n",
    "    return coeffs[0] * x ** 2 + coeffs[1]*x + coeffs[2]\n",
    "\n",
    "def apply3(x,coeffs):\n",
    "    return coeffs[0] * x ** 3 + coeffs[1]*x**2 + coeffs[2]*x + coeffs[0]"
   ]
  },
  {
   "cell_type": "code",
   "execution_count": 111,
   "metadata": {},
   "outputs": [
    {
     "data": {
      "image/png": "[encoded data removed]",
      "text/plain": [
       "<Figure size 432x288 with 1 Axes>"
      ]
     },
     "metadata": {
      "needs_background": "light"
     },
     "output_type": "display_data"
    }
   ],
   "source": [
    "fit = [ apply(n,coeffs) for n in Ns] \n",
    "plt.plot(Ns,means,\"blue\")\n",
    "plt.plot(Ns,fit,\"orange\")\n",
    "plt.show()"
   ]
  },
  {
   "cell_type": "code",
   "execution_count": 124,
   "metadata": {},
   "outputs": [
    {
     "name": "stdout",
     "output_type": "stream",
     "text": [
      "N =    1 :   -0 O()=    0\n",
      "N =    2 :    2 O()=    2\n",
      "N =    3 :    7 O()=    6\n",
      "N =    4 :   17 O()=   12\n",
      "N =    5 :   30 O()=   20\n",
      "N =    6 :   46 O()=   30\n",
      "N =    7 :   66 O()=   42\n",
      "N =    8 :   90 O()=   56\n",
      "N =    9 :  118 O()=   72\n",
      "N =   10 :  150 O()=   90\n",
      "N =   11 :  185 O()=  110\n",
      "N =   12 :  223 O()=  132\n",
      "N =   13 :  266 O()=  156\n",
      "N =   14 :  312 O()=  182\n",
      "N =   15 :  362 O()=  210\n",
      "N =   16 :  415 O()=  240\n",
      "N =   17 :  473 O()=  272\n",
      "N =   18 :  534 O()=  306\n",
      "N =   19 :  598 O()=  342\n"
     ]
    }
   ],
   "source": [
    "for i in range(1,N):\n",
    "    print(\"N = {:4} : {:4.0f} O()={:5}\".format(i,apply(i,coeffs),(i**2)-i))"
   ]
  },
  {
   "cell_type": "code",
   "execution_count": null,
   "metadata": {},
   "outputs": [],
   "source": [
    "\n"
   ]
  },
  {
   "cell_type": "code",
   "execution_count": null,
   "metadata": {},
   "outputs": [],
   "source": []
  }
 ],
 "metadata": {
  "kernelspec": {
   "display_name": "Python 3",
   "language": "python",
   "name": "python3"
  },
  "language_info": {
   "codemirror_mode": {
    "name": "ipython",
    "version": 3
   },
   "file_extension": ".py",
   "mimetype": "text/x-python",
   "name": "python",
   "nbconvert_exporter": "python",
   "pygments_lexer": "ipython3",
   "version": "3.8.3"
  }
 },
 "nbformat": 4,
 "nbformat_minor": 4
}
